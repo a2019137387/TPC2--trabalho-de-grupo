{
 "cells": [
  {
   "cell_type": "markdown",
   "metadata": {},
   "source": [
    "## Questão A: (1 valor) – Explique a metodologia para criar a animação em cada um dos casos (versões). Comente-as. Justifique."
   ]
  },
  {
   "cell_type": "markdown",
   "metadata": {},
   "source": [
    "### gapminder_animation:\n",
    "\n",
    "É feita uma análise da evolução acerca da esperança média de vida ao longo dos anos em função do GDP per capita, mais propriamente de 1952 a 2007 mas é uma evolução de forma estática. \n",
    "\n",
    "\n",
    "Comecei por chamar a bibloteca de software \"matplotlib\" através de **\"%matplotlib notebook\"** para conseguir trabalhar no gráfico. \n",
    "\n",
    "De forma a fazer um gráfico para cada ano, começando por 1952, utilizei a função **for i in data.year.unique()** , sendo que o i corresponde a um ano\n",
    "\n",
    "**\"fig, ax = plt.subplots(figsize=(680/my_dpi, 480/my_dpi), dpi=my_dpi)\"** para definir o comprimento e a largura dos eixos, ou seja, 600 e 480.\n",
    "\n",
    "De maneira a mostrar os valores no nosso gráfico foi utilizada a função **tmp=data[ data.year == i ]** , para determinar o tempo. \n",
    "\n",
    "\n",
    "**-- Para os eixos:**\n",
    "\n",
    "Foram utilizadas as seguintes funções para definir o conteúdo do gráfico:\n",
    "**plt.xlabel(\"Life Expectancy\")** e **plt.ylabel(\"GDP per Capita\")** servem para definir a legenda do x e do y, respetivamente.\n",
    "\n",
    "**plt.title(\"Year: \"+str(i) )** serve para atribuir o ano\n",
    "\n",
    "**plt.ylim(0,100000)** serve para limitar os valores do eixo do y entre 0 a 100000.\n",
    "\n",
    "**plt.xlim(30, 90**) serve para limitar os valores do eixo do x entre 30 e 90.\n",
    "\n",
    "\n",
    "Este gráfico, em relação ao segundo, apresenta uma evolução muito mais detalhada ao longo dos anos pois, cria uma imagem diferente para cada ano.\n",
    "\n",
    "\n",
    "### gapminder_animation-FuncAnimation_PLOT_SEM-legend:\n",
    "\n",
    "É feita uma análise da evolução acerca da esperança média de vida ao longo dos anos em função do GDP per capita, mais propriamente de 1952 a 2007 mas é uma evolução feita de forma animada através da sequência rápida de frames. \n",
    "\n",
    "\n",
    "Chamou-se novamente a bibloteca de software \"matplotlib\" através de **\"%matplotlib notebook\"** para conseguir trabalhar no gráfico.\n",
    "\n",
    "Para adicionar valores aos eixos X e Y  utilizou-se o seguinte código:\n",
    "\n",
    "**plt.yscale('log')** serve para mostrar os valores do eixo Y exponenciados, de forma aos números não serem tão extensos.\n",
    "\n",
    "**plt.xlabel(\"Life Expectancy\")** e **plt.ylabel(\"GDP per Capita\")** .\n",
    "\n",
    "**plt.ylim(100,100000)** serve para limitar os valores do eixo do y entre 100 a 100000.\n",
    "\n",
    "**plt.xlim(30, 90**) serve para limitar os valores do eixo do x entre 30 e 90.\n",
    "\n",
    "\n",
    "Para ***iniciar a animação e a apresentação de dados*** foi utilizada a função **\"def animate(i)\"**\n",
    "\n",
    "**plt.title(\"Year: \"+str(anos[i])** serve para colocar titulo no gráfico, tendo em conta o year/ano que vai apresentar e o valor do ano correspondente em relação ao decorrer da animação\n",
    "\n",
    "\n",
    "**Frames:**\n",
    "\n",
    "**(frames=len(anos))** para determinar os frames que são apresentados durante a animação, desde 1952 a 2007\n",
    "\n",
    "**interval=200** determina o intervalo em milisegundos entre os frames\n",
    "\n",
    "**(repeat=False)**, ou seja, sem repetições\n",
    "\n",
    "**plt.show()** para apresentar o gráfico\n",
    "\n",
    "\n",
    "Este gráfico é muito intuitivo se quisermos ter uma perspetiva geral da evolução, visto que, não existe uma divisão e os valores são apresentados numa animação.\n",
    "\n"
   ]
  },
  {
   "cell_type": "markdown",
   "metadata": {},
   "source": [
    "## Questão B: (1 valor) : Temos “bolhas” de cinco (5) cores diferentes. O que representa cada cor? Justifique, com descrição detalhada do processo."
   ]
  },
  {
   "cell_type": "markdown",
   "metadata": {},
   "source": [
    "De acordo com o código, as bolhas de cinco cores diferentes representam 5 continentes com a respetiva cor associada, sendo que o tamanho delas representa a quantidade da população. O verde representa a Asia; Laranja claro - Europa; Azul - Africa; Castanho - Americas e por fim, o cinzento claro representa a Oceania.\n",
    "Na versão \"gapminder_animation-FuncAnimation_PLOT_SEM-legend\" está presente uma animação feita através de um conjunto de frames, estes surgem com uma diferença de 200milsegundos, alternando esta sequência com o aparecimento das bolhas."
   ]
  },
  {
   "cell_type": "markdown",
   "metadata": {},
   "source": [
    "## Questão C (2 valores) : Inserir uma legenda ou legendas com a cor das “bolhas” e o seu significado, posicionada(s) em área(s) que não se sobreponha(m) às “bolhas”. Fundamente as opções tomadas."
   ]
  },
  {
   "cell_type": "markdown",
   "metadata": {},
   "source": [
    "Para inserir as legendas correspondentes aos 5 continentes utilizou-se o seguinte código:\n",
    "\n",
    "**u_continent = data['continent'].unique()\n",
    "ax.legend(handles =scut.legend_elements()[0] , labels = u_continent, title= \"Continents\")**\n",
    "\n",
    "Para escolher os dados que estão na coluna \"continent\", comecei por utilizar u_continent = data['continent'].unique(), de forma a criar a legenda.\n",
    "\n",
    "\n",
    "Com a função ax.legend(), são apresentados os elementos da legenda de acordo com os eixos. Para ter controlo total sobre o que é mostrado nesta, foram utilizadas as funções handles(definida através da variável scuts) e labels(elementos da coluna \"continent\"). Por fim, o título é definido através da função title.\n",
    "\n"
   ]
  },
  {
   "cell_type": "code",
   "execution_count": null,
   "metadata": {},
   "outputs": [],
   "source": []
  }
 ],
 "metadata": {
  "kernelspec": {
   "display_name": "Python 3",
   "language": "python",
   "name": "python3"
  },
  "language_info": {
   "codemirror_mode": {
    "name": "ipython",
    "version": 3
   },
   "file_extension": ".py",
   "mimetype": "text/x-python",
   "name": "python",
   "nbconvert_exporter": "python",
   "pygments_lexer": "ipython3",
   "version": "3.7.6"
  }
 },
 "nbformat": 4,
 "nbformat_minor": 4
}
