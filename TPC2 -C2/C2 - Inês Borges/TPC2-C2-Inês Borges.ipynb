{
 "cells": [
  {
   "cell_type": "markdown",
   "metadata": {},
   "source": [
    "### Questão A: (1 valor) – Explique a metodologia para criar a animação em cada um dos casos (versões). Comente-as. Justifique."
   ]
  },
  {
   "cell_type": "markdown",
   "metadata": {},
   "source": [
    "Na versão gapminder_animation, os gráficos são apresentados de forma estática, apresentando em cada imagem um ano.\n",
    "Na outra versão, o gráfico é feito através de frames, que criam uma animação. Este dá-nos uma visão mais geral da evolução ao longos dos anos, desde 1952 a 2007, enquanto que o primeiro, dá-nos uma versão mais detalhada.\n",
    "\n",
    "#### Gapminder_animation\n",
    "**Código:** \n",
    "for i in data.year.unique() -- Este código serve para criar uma nova imagem para cada ano apresentado.\n",
    "\n",
    "#### Gapminder_animation-Funcanimation_plot_SEM_LEGEND\n",
    "**Código:**\n",
    "ani = animation.FuncAnimation(fig, animate, frames=len(anos), interval=200, blit=False, repeat=False) , este código serve para criar a animação, sem divisão dos frames, com 200 milisegundos de intervalo.\n"
   ]
  },
  {
   "cell_type": "markdown",
   "metadata": {},
   "source": [
    "### Questão B: (1 valor) : Temos “bolhas” de cinco (5) cores diferentes. O que representa cada cor? Justifique, com descrição detalhada do processo."
   ]
  },
  {
   "cell_type": "markdown",
   "metadata": {},
   "source": [
    "No gráfico existem 5 bolhas com 5 cores diferentes, que representam os continentes. O tamanho das bolhas mostra o tamanho da população de cada país.\n",
    "Neste caso:\n",
    "Cinzento- Oceania\n",
    "Castanho- America\n",
    "Azul- Africa\n",
    "Verde- Asia\n",
    "Laranja claro- Europa\n",
    "\n",
    "**código referente às bolhas:**\n",
    "alpha=0.6, serve para a tonalidade da cor\n",
    "edgecolors=\"white\", mostra a delimitação das bolhas\n",
    "linewidth=2, representa a espessura da linha"
   ]
  },
  {
   "cell_type": "markdown",
   "metadata": {},
   "source": [
    "### Questão C (2 valores) : Inserir uma legenda ou legendas com a cor das “bolhas” e o seu significado, posicionada(s) em área(s) que não se sobreponha(m) às “bolhas”. Fundamente as opções tomadas."
   ]
  },
  {
   "cell_type": "markdown",
   "metadata": {},
   "source": [
    "#### Para inserir legendas.\n",
    "\n",
    "**plt.plot([1, 2, 3], label=\"Africa\", marker='o', color=\"w\", markerfacecolor='lightgreen', markersize=10)\n",
    "plt.plot([3, 2, 1], label=\"Americas\", marker='o', color='w', markerfacecolor='moccasin', markersize=10)\n",
    "plt.plot([3, 2, 1], label=\"Europe\", marker='o', color='w', markerfacecolor='royalblue', markersize=10)\n",
    "plt.plot([3, 2, 1], label=\"Oceania\", marker='o', color='w', markerfacecolor='whitesmoke', markersize=10)\n",
    "plt.plot([3, 2, 1], label=\"Asia\", marker='o', color='w', markerfacecolor='chocolate', markersize=10)\n",
    "plt.legend(bbox_to_anchor=(0.79, 0.25, 0.3, 0.1), loc='upper left', title=\"Continents\")**\n",
    "\n",
    "Utilizei a função plt.plt para colocar, dentro do plot do gráfico, na caixa das legendas, os nomes (dos continentes), indicando, através de diferentes cores, qual a sua \"bolha\" correspondente.\n",
    "Para além disso, a função plt.legend serve para situar a caixa da legenda, alterar o seu tamanho, e o seu titulo (\"Continents\")."
   ]
  },
  {
   "cell_type": "code",
   "execution_count": null,
   "metadata": {},
   "outputs": [],
   "source": []
  }
 ],
 "metadata": {
  "kernelspec": {
   "display_name": "Python 3",
   "language": "python",
   "name": "python3"
  },
  "language_info": {
   "codemirror_mode": {
    "name": "ipython",
    "version": 3
   },
   "file_extension": ".py",
   "mimetype": "text/x-python",
   "name": "python",
   "nbconvert_exporter": "python",
   "pygments_lexer": "ipython3",
   "version": "3.7.6"
  }
 },
 "nbformat": 4,
 "nbformat_minor": 4
}
