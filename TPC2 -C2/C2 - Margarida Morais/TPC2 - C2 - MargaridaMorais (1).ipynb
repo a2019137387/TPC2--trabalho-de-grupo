{
 "cells": [
  {
   "cell_type": "markdown",
   "metadata": {},
   "source": [
    "## Questão A: (1 valor) – Explique a metodologia para criar a animação em cada um dos casos (versões). Comente-as. Justifique.##"
   ]
  },
  {
   "cell_type": "markdown",
   "metadata": {},
   "source": [
    "### No gapminder_animation:\n",
    "\n",
    "É feita uma análise da evolução acerca da esperança média de vida ao longo dos anos em função do GDP per capita, mais propriamente de 1952 a 2007 mas é uma evolução de forma estática. \n",
    "\n",
    "Primeiramente definiu-se a varável url = 'https://python-graph-gallery.com/wp-content/uploads/gapminderData.csv' para ser possível importar o ficheiro \"gapminderData.csv\", onde se encontram os dados da tabela que podemos ver se utilizarmos a função head().\n",
    "\n",
    "\n",
    "Quanto ao **matplotlib** em si, primeiramente importámos a bibloteca de \"matplotlib\" através de **\"%matplotlib notebook\"** para conseguirmos trabalhar no gráfico.\n",
    "\n",
    "**Especificando mais pormenorizadamente cada função:**\n",
    "\n",
    "--> for **i in data.year.unique()** significa que estamos a fazer um gráfico para cada ano, começando por 1952.\n",
    "\n",
    "--> **\"fig, ax = plt.subplots(figsize=(680/my_dpi, 480/my_dpi)\"** significa que definimos a largura dos eixos do plot, ou seja 680 de comprimento e 480 de largura.\n",
    " \n",
    "**Para os eixos:**\n",
    "\n",
    "Foi utilizada a função **\"plt.yscale('log')\"** para colocar os valores no eixo do y mas de forma exponencial, ou seja, como o número é demasiado grande optou-se por elevá-lo.\n",
    "\n",
    "--> **plt.xlabel**(\"Life Expectancy\") e **plt.ylabel**(\"GDP per Capita\") servem para definir a legenda do x e do y.\n",
    "\n",
    "--> **plt.title(\"Year: \"+str(i) )** serve para atribuir o ano a cada plot que apareça.\n",
    "\n",
    "--> **plt.ylim(0,100000)** serve para limitar os valores do eixo do y entre 0 a 100000.\n",
    "\n",
    "--> **plt.xlim(30, 90)** serve para limitar os valores do eixo do x entre 30 e 90.\n",
    "\n",
    "\n",
    "### No gapminder_animation-FuncAnimation_PLOT_SEM-legend:\n",
    "\n",
    "É feita uma análise da evolução acerca da esperança média de vida ao longo dos anos em função do GDP per capita, mais propriamente de 1952 a 2007 mas é uma evolução feita de forma animada através da sequência rápida de frames. \n",
    "\n",
    "Primeiramente definiu-se a varável url = 'https://python-graph-gallery.com/wp-content/uploads/gapminderData.csv' para ser possível importar o ficheiro \"gapminderData.csv\", onde se encontram os dados da tabela que podemos ver se utilizarmos a função head().\n",
    "\n",
    "**anos=data.year.unique()** Serve para definir a variável anos através da contagem de anos únicos, dentro da informação previamente importada:data.year.unique().\n",
    "\n",
    "Quanto ao **matplotlib** em si, primeiramente importámos a bibloteca de \"matplotlib\" através de **\"%matplotlib notebook\"** para conseguirmos trabalhar no gráfico.\n",
    "\n",
    "Para definir a largura dos eixos do plot, ou seja 680 de comprimento e 480 de largura foi utilizado:**fig, ax = plt.subplots(figsize=(680/my_dpi, 480/my_dpi)**\n",
    "\n",
    "Adicionar os valores aos eixos X e Y (logaritmo), limitá-los e adicionar legenda foi feito através do seguinte código:\n",
    "**plt.yscale('log')\n",
    "plt.xlabel(\"Life Expectancy\")\n",
    "plt.ylabel(\"GDP per Capita\")\n",
    "plt.ylim(100,100000)\n",
    "plt.xlim(30, 90)**\n",
    "\n",
    "--> Para iniciar a animação e a apresentação de dados foi utilizada a função **\"def animate(i)\"**\n",
    "\n",
    "**Frames:**\n",
    "\n",
    "--> **(frames=len(anos))** para determinar os frames que são apresentados durante a animação, desde 1952 a 2007.\n",
    "\n",
    "--> **interval=200** determina o intervalo em milisegundos entre os frames.\n",
    "\n",
    "--> **(repeat=False)**, ou seja, sem repetições.\n",
    "\n",
    "--> **plt.show()** para apresentar o gráfico.\n",
    "\n",
    "Na minha opinião acho que o segundo plot é muito mais intuitivo se quisermos ter uma perspetiva geral da evolução, enquanto que o primeiro plot nos dá uma evolução muito mais detalhada ao longo dos anos.\n",
    "\n",
    "\n",
    "\n",
    "\n",
    "\n",
    "\n",
    "\n"
   ]
  },
  {
   "cell_type": "markdown",
   "metadata": {},
   "source": [
    "## Questão B: (1 valor) : Temos “bolhas” de cinco (5) cores diferentes. O que representa cada cor? Justifique, com descrição detalhada do processo.##"
   ]
  },
  {
   "cell_type": "markdown",
   "metadata": {},
   "source": [
    "As cores das bolhas representam os 5 continentes e o tamanho delas representa o tamanho da  população de cada país desse continente. \n",
    "\n",
    "Ou seja,\n",
    "\n",
    "Verde claro - Asia\\\n",
    "Azul - Africa\\\n",
    "Castanho - Americas\\\n",
    "Laranja - Europe\\\n",
    "Cinzento - Oceania\n",
    "\n",
    "Estas bolhas estão devidamente programadas, por exemplo, pela função **\"linewidth=2\"** para definir a espessura da linha, a opacidade das bolhas é feita através do **\"alpha=0.6\"** e **edgecolors =\"white\".** Para além disso o código **\"c=tmp['continent'].cat.codes\"** atribui a cada continente uma cor diferente. O código **\"cmap=\"Accent\"** serve para atribuir os mapas de cor."
   ]
  },
  {
   "cell_type": "markdown",
   "metadata": {},
   "source": [
    "## Questão C (2 valores) : Inserir uma legenda ou legendas com a cor das “bolhas” e o seu significado, posicionada(s) em área(s) que não se sobreponha(m) às “bolhas”. Fundamente as opções tomadas.##"
   ]
  },
  {
   "cell_type": "markdown",
   "metadata": {},
   "source": [
    "Para inserir as legendas correspondentes aos 5 continentes utilizei o seguinte código (como podemos ver no ficheiro gapminder_animation-FunAnimation_PLOT_SEM_legendMARGARIDAMORAIS): \n",
    "\n",
    "variavel = scut.legend_elements()[0]\n",
    "    names_of_the_continents = data[\"continent\"].unique()\n",
    "    plt.legend(handles = variavel, \n",
    "               labels = names_of_the_continents, \n",
    "               loc = 2, \n",
    "               title = \"Continents\")\n",
    "    \n",
    "Foi feito o código acima onde utilizei unique() para conseguir retirar especificamente o que estava na coluna \"continent\".   Seguidamente para definir a legenda, onde foram coladas as etiquetas correspondentes a cada continente, a localização que ficou no 2º quadrante, daí o número dois, e foi propositadamente colocada aqui para não se sobrepôr ao local das bolhas. O título das legendas ficou \"Continents\""
   ]
  },
  {
   "cell_type": "code",
   "execution_count": null,
   "metadata": {},
   "outputs": [],
   "source": []
  }
 ],
 "metadata": {
  "kernelspec": {
   "display_name": "Python 3",
   "language": "python",
   "name": "python3"
  },
  "language_info": {
   "codemirror_mode": {
    "name": "ipython",
    "version": 3
   },
   "file_extension": ".py",
   "mimetype": "text/x-python",
   "name": "python",
   "nbconvert_exporter": "python",
   "pygments_lexer": "ipython3",
   "version": "3.7.6"
  }
 },
 "nbformat": 4,
 "nbformat_minor": 4
}
